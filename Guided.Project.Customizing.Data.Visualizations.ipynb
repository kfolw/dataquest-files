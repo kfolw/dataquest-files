{
 "cells": [
  {
   "cell_type": "markdown",
   "metadata": {},
   "source": [
    "## 1. Overview\n",
    "In this course, we first explored how to create and customize a range of compelling data plots using the high-level functions that Seaborn, Matplotlib, and Pandas provide. Since these high-level functions all use Matplotlib underneath, we then dove into the internals of the Matplotlib library. In this guided project, you'll practice recreating some of the plots using Matplotlib that Seaborn and Pandas allow you to generate using high-level functions. This deliberate practice will help prepare you for creating new kinds of plots in the future that these libraries don't provide."
   ]
  },
  {
   "cell_type": "code",
   "execution_count": 2,
   "metadata": {
    "collapsed": true
   },
   "outputs": [],
   "source": [
    "import pandas as pd\n",
    "import matplotlib.pyplot as plt\n",
    "%matplotlib inline"
   ]
  },
  {
   "cell_type": "markdown",
   "metadata": {},
   "source": [
    "We'll continue to work with the dataset from the American Community Survey on job outcomes for recent college graduates. You can read about how the dataset was compiled on FiveThirtyEight's Github repo.\n",
    "\n",
    "Here are some of the columns in the dataset:\n",
    "\n",
    "Rank - Rank by median earnings\n",
    "Major_code - Major code\n",
    "Major - Major description\n",
    "Major_category - Category of major\n",
    "Total - Total number of people with major\n",
    "Sample_size - Sample size (unweighted) of full-time\n",
    "Men - Male graduates\n",
    "Women - Female graduates\n",
    "ShareWomen - Women as share of total\n",
    "Employed - Number employed\n",
    "Before we start creating data visualizations, let's import the libraries we need and remove rows contain null values.\n"
   ]
  },
  {
   "cell_type": "code",
   "execution_count": 3,
   "metadata": {
    "collapsed": true
   },
   "outputs": [],
   "source": [
    "recent_grads = pd.read_csv(\"/Users/kaitfolweiler/Downloads/Guided Project- Customizing Data Visualizations/recent-grads.csv\")"
   ]
  },
  {
   "cell_type": "code",
   "execution_count": 4,
   "metadata": {
    "collapsed": false
   },
   "outputs": [
    {
     "data": {
      "text/html": [
       "<div>\n",
       "<table border=\"1\" class=\"dataframe\">\n",
       "  <thead>\n",
       "    <tr style=\"text-align: right;\">\n",
       "      <th></th>\n",
       "      <th>Rank</th>\n",
       "      <th>Major_code</th>\n",
       "      <th>Total</th>\n",
       "      <th>Men</th>\n",
       "      <th>Women</th>\n",
       "      <th>ShareWomen</th>\n",
       "      <th>Sample_size</th>\n",
       "      <th>Employed</th>\n",
       "      <th>Full_time</th>\n",
       "      <th>Part_time</th>\n",
       "      <th>Full_time_year_round</th>\n",
       "      <th>Unemployed</th>\n",
       "      <th>Unemployment_rate</th>\n",
       "      <th>Median</th>\n",
       "      <th>P25th</th>\n",
       "      <th>P75th</th>\n",
       "      <th>College_jobs</th>\n",
       "      <th>Non_college_jobs</th>\n",
       "      <th>Low_wage_jobs</th>\n",
       "    </tr>\n",
       "  </thead>\n",
       "  <tbody>\n",
       "    <tr>\n",
       "      <th>count</th>\n",
       "      <td>173.000000</td>\n",
       "      <td>173.000000</td>\n",
       "      <td>172.000000</td>\n",
       "      <td>172.000000</td>\n",
       "      <td>172.000000</td>\n",
       "      <td>172.000000</td>\n",
       "      <td>173.000000</td>\n",
       "      <td>173.000000</td>\n",
       "      <td>173.000000</td>\n",
       "      <td>173.000000</td>\n",
       "      <td>173.000000</td>\n",
       "      <td>173.000000</td>\n",
       "      <td>173.000000</td>\n",
       "      <td>173.000000</td>\n",
       "      <td>173.000000</td>\n",
       "      <td>173.000000</td>\n",
       "      <td>173.000000</td>\n",
       "      <td>173.000000</td>\n",
       "      <td>173.000000</td>\n",
       "    </tr>\n",
       "    <tr>\n",
       "      <th>mean</th>\n",
       "      <td>87.000000</td>\n",
       "      <td>3879.815029</td>\n",
       "      <td>39370.081395</td>\n",
       "      <td>16723.406977</td>\n",
       "      <td>22646.674419</td>\n",
       "      <td>0.522223</td>\n",
       "      <td>356.080925</td>\n",
       "      <td>31192.763006</td>\n",
       "      <td>26029.306358</td>\n",
       "      <td>8832.398844</td>\n",
       "      <td>19694.427746</td>\n",
       "      <td>2416.329480</td>\n",
       "      <td>0.068191</td>\n",
       "      <td>40151.445087</td>\n",
       "      <td>29501.445087</td>\n",
       "      <td>51494.219653</td>\n",
       "      <td>12322.635838</td>\n",
       "      <td>13284.497110</td>\n",
       "      <td>3859.017341</td>\n",
       "    </tr>\n",
       "    <tr>\n",
       "      <th>std</th>\n",
       "      <td>50.084928</td>\n",
       "      <td>1687.753140</td>\n",
       "      <td>63483.491009</td>\n",
       "      <td>28122.433474</td>\n",
       "      <td>41057.330740</td>\n",
       "      <td>0.231205</td>\n",
       "      <td>618.361022</td>\n",
       "      <td>50675.002241</td>\n",
       "      <td>42869.655092</td>\n",
       "      <td>14648.179473</td>\n",
       "      <td>33160.941514</td>\n",
       "      <td>4112.803148</td>\n",
       "      <td>0.030331</td>\n",
       "      <td>11470.181802</td>\n",
       "      <td>9166.005235</td>\n",
       "      <td>14906.279740</td>\n",
       "      <td>21299.868863</td>\n",
       "      <td>23789.655363</td>\n",
       "      <td>6944.998579</td>\n",
       "    </tr>\n",
       "    <tr>\n",
       "      <th>min</th>\n",
       "      <td>1.000000</td>\n",
       "      <td>1100.000000</td>\n",
       "      <td>124.000000</td>\n",
       "      <td>119.000000</td>\n",
       "      <td>0.000000</td>\n",
       "      <td>0.000000</td>\n",
       "      <td>2.000000</td>\n",
       "      <td>0.000000</td>\n",
       "      <td>111.000000</td>\n",
       "      <td>0.000000</td>\n",
       "      <td>111.000000</td>\n",
       "      <td>0.000000</td>\n",
       "      <td>0.000000</td>\n",
       "      <td>22000.000000</td>\n",
       "      <td>18500.000000</td>\n",
       "      <td>22000.000000</td>\n",
       "      <td>0.000000</td>\n",
       "      <td>0.000000</td>\n",
       "      <td>0.000000</td>\n",
       "    </tr>\n",
       "    <tr>\n",
       "      <th>25%</th>\n",
       "      <td>44.000000</td>\n",
       "      <td>2403.000000</td>\n",
       "      <td>4549.750000</td>\n",
       "      <td>2177.500000</td>\n",
       "      <td>1778.250000</td>\n",
       "      <td>0.336026</td>\n",
       "      <td>39.000000</td>\n",
       "      <td>3608.000000</td>\n",
       "      <td>3154.000000</td>\n",
       "      <td>1030.000000</td>\n",
       "      <td>2453.000000</td>\n",
       "      <td>304.000000</td>\n",
       "      <td>0.050306</td>\n",
       "      <td>33000.000000</td>\n",
       "      <td>24000.000000</td>\n",
       "      <td>42000.000000</td>\n",
       "      <td>1675.000000</td>\n",
       "      <td>1591.000000</td>\n",
       "      <td>340.000000</td>\n",
       "    </tr>\n",
       "    <tr>\n",
       "      <th>50%</th>\n",
       "      <td>87.000000</td>\n",
       "      <td>3608.000000</td>\n",
       "      <td>15104.000000</td>\n",
       "      <td>5434.000000</td>\n",
       "      <td>8386.500000</td>\n",
       "      <td>0.534024</td>\n",
       "      <td>130.000000</td>\n",
       "      <td>11797.000000</td>\n",
       "      <td>10048.000000</td>\n",
       "      <td>3299.000000</td>\n",
       "      <td>7413.000000</td>\n",
       "      <td>893.000000</td>\n",
       "      <td>0.067961</td>\n",
       "      <td>36000.000000</td>\n",
       "      <td>27000.000000</td>\n",
       "      <td>47000.000000</td>\n",
       "      <td>4390.000000</td>\n",
       "      <td>4595.000000</td>\n",
       "      <td>1231.000000</td>\n",
       "    </tr>\n",
       "    <tr>\n",
       "      <th>75%</th>\n",
       "      <td>130.000000</td>\n",
       "      <td>5503.000000</td>\n",
       "      <td>38909.750000</td>\n",
       "      <td>14631.000000</td>\n",
       "      <td>22553.750000</td>\n",
       "      <td>0.703299</td>\n",
       "      <td>338.000000</td>\n",
       "      <td>31433.000000</td>\n",
       "      <td>25147.000000</td>\n",
       "      <td>9948.000000</td>\n",
       "      <td>16891.000000</td>\n",
       "      <td>2393.000000</td>\n",
       "      <td>0.087557</td>\n",
       "      <td>45000.000000</td>\n",
       "      <td>33000.000000</td>\n",
       "      <td>60000.000000</td>\n",
       "      <td>14444.000000</td>\n",
       "      <td>11783.000000</td>\n",
       "      <td>3466.000000</td>\n",
       "    </tr>\n",
       "    <tr>\n",
       "      <th>max</th>\n",
       "      <td>173.000000</td>\n",
       "      <td>6403.000000</td>\n",
       "      <td>393735.000000</td>\n",
       "      <td>173809.000000</td>\n",
       "      <td>307087.000000</td>\n",
       "      <td>0.968954</td>\n",
       "      <td>4212.000000</td>\n",
       "      <td>307933.000000</td>\n",
       "      <td>251540.000000</td>\n",
       "      <td>115172.000000</td>\n",
       "      <td>199897.000000</td>\n",
       "      <td>28169.000000</td>\n",
       "      <td>0.177226</td>\n",
       "      <td>110000.000000</td>\n",
       "      <td>95000.000000</td>\n",
       "      <td>125000.000000</td>\n",
       "      <td>151643.000000</td>\n",
       "      <td>148395.000000</td>\n",
       "      <td>48207.000000</td>\n",
       "    </tr>\n",
       "  </tbody>\n",
       "</table>\n",
       "</div>"
      ],
      "text/plain": [
       "             Rank   Major_code          Total            Men          Women  \\\n",
       "count  173.000000   173.000000     172.000000     172.000000     172.000000   \n",
       "mean    87.000000  3879.815029   39370.081395   16723.406977   22646.674419   \n",
       "std     50.084928  1687.753140   63483.491009   28122.433474   41057.330740   \n",
       "min      1.000000  1100.000000     124.000000     119.000000       0.000000   \n",
       "25%     44.000000  2403.000000    4549.750000    2177.500000    1778.250000   \n",
       "50%     87.000000  3608.000000   15104.000000    5434.000000    8386.500000   \n",
       "75%    130.000000  5503.000000   38909.750000   14631.000000   22553.750000   \n",
       "max    173.000000  6403.000000  393735.000000  173809.000000  307087.000000   \n",
       "\n",
       "       ShareWomen  Sample_size       Employed      Full_time      Part_time  \\\n",
       "count  172.000000   173.000000     173.000000     173.000000     173.000000   \n",
       "mean     0.522223   356.080925   31192.763006   26029.306358    8832.398844   \n",
       "std      0.231205   618.361022   50675.002241   42869.655092   14648.179473   \n",
       "min      0.000000     2.000000       0.000000     111.000000       0.000000   \n",
       "25%      0.336026    39.000000    3608.000000    3154.000000    1030.000000   \n",
       "50%      0.534024   130.000000   11797.000000   10048.000000    3299.000000   \n",
       "75%      0.703299   338.000000   31433.000000   25147.000000    9948.000000   \n",
       "max      0.968954  4212.000000  307933.000000  251540.000000  115172.000000   \n",
       "\n",
       "       Full_time_year_round    Unemployed  Unemployment_rate         Median  \\\n",
       "count            173.000000    173.000000         173.000000     173.000000   \n",
       "mean           19694.427746   2416.329480           0.068191   40151.445087   \n",
       "std            33160.941514   4112.803148           0.030331   11470.181802   \n",
       "min              111.000000      0.000000           0.000000   22000.000000   \n",
       "25%             2453.000000    304.000000           0.050306   33000.000000   \n",
       "50%             7413.000000    893.000000           0.067961   36000.000000   \n",
       "75%            16891.000000   2393.000000           0.087557   45000.000000   \n",
       "max           199897.000000  28169.000000           0.177226  110000.000000   \n",
       "\n",
       "              P25th          P75th   College_jobs  Non_college_jobs  \\\n",
       "count    173.000000     173.000000     173.000000        173.000000   \n",
       "mean   29501.445087   51494.219653   12322.635838      13284.497110   \n",
       "std     9166.005235   14906.279740   21299.868863      23789.655363   \n",
       "min    18500.000000   22000.000000       0.000000          0.000000   \n",
       "25%    24000.000000   42000.000000    1675.000000       1591.000000   \n",
       "50%    27000.000000   47000.000000    4390.000000       4595.000000   \n",
       "75%    33000.000000   60000.000000   14444.000000      11783.000000   \n",
       "max    95000.000000  125000.000000  151643.000000     148395.000000   \n",
       "\n",
       "       Low_wage_jobs  \n",
       "count     173.000000  \n",
       "mean     3859.017341  \n",
       "std      6944.998579  \n",
       "min         0.000000  \n",
       "25%       340.000000  \n",
       "50%      1231.000000  \n",
       "75%      3466.000000  \n",
       "max     48207.000000  "
      ]
     },
     "execution_count": 4,
     "metadata": {},
     "output_type": "execute_result"
    }
   ],
   "source": [
    "recent_grads.describe()"
   ]
  },
  {
   "cell_type": "markdown",
   "metadata": {},
   "source": [
    "Determine if there are any rows with missing values and drop those rows. While Pandas can handle NaN values well, Matplotlib does not. Since we only have 173 rows, let's make sure only a handful (at max) are problematic.\n",
    "\n",
    "Use the shape attribute to look up the number of rows in the DataFrame. recent_grads.shape[0] returns the number of rows.\n",
    "Use the DataFrame method dropna() to return a new DataFrame with rows containing NaN values dropped. Documentation for dropna().\n",
    "Compare the row counts of both DataFrames and you'll notice that only 1 row (of 173 rows) was removed.\n"
   ]
  },
  {
   "cell_type": "code",
   "execution_count": 5,
   "metadata": {
    "collapsed": false
   },
   "outputs": [
    {
     "name": "stdout",
     "output_type": "stream",
     "text": [
      "21\n"
     ]
    },
    {
     "data": {
      "text/plain": [
       "173"
      ]
     },
     "execution_count": 5,
     "metadata": {},
     "output_type": "execute_result"
    }
   ],
   "source": [
    "print(recent_grads.shape[1]) #columns\n",
    "recent_grads.shape[0] #rows"
   ]
  },
  {
   "cell_type": "code",
   "execution_count": 6,
   "metadata": {
    "collapsed": false
   },
   "outputs": [
    {
     "data": {
      "text/plain": [
       "172"
      ]
     },
     "execution_count": 6,
     "metadata": {},
     "output_type": "execute_result"
    }
   ],
   "source": [
    "recent_grads_noNA = recent_grads.dropna()\n",
    "recent_grads_noNA.shape[0]"
   ]
  },
  {
   "cell_type": "markdown",
   "metadata": {},
   "source": [
    "## Scatter matrix: Part 1\n",
    "Both Pandas and Seaborn have high-level functions to create a scatter matrix, a kind of plot that makes it easy to explore relationships between combinations of columns. The Pandas implementation can be called using the scatter_matrix() method. Now that we have some familiarity with Matplotlib's internals, we'll be able to recreate the below scatter matrix using Matplotlib.\n",
    "\n",
    "Plot\n",
    "\n",
    "The scatter matrix was created using the scatter_matrix() function, which you can read more about on the Pandas documentation.:\n",
    "\n",
    "from pandas.tools.plotting import scatter_matrix\n",
    "scatter_matrix(recent_grads[[\"ShareWomen\",\"Unemployment_rate\"]])\n",
    "First, let's create the subplots we need and layout the data. In the next step, we'll focus on styling and customizing how the plot actually looks.\n",
    "\n",
    "\n",
    "Instructions\n",
    "First, we need to create a Figure instance and create 4 Axes instances, corresponding to each subplot.\n",
    "\n",
    "Create a Figure instance by calling the figure() method on the matplotlib.pyplot object.\n",
    "Experiment with the size of the total plot area using the figsize parameter -- e.g. fig = plt.figure(figsize=(8,8)) sets the plotting area to 8 inches by 8 inches.\n",
    "Use the Figure method add_subplot() to add 4 subplots on a 2 by 2 layout and assign each plot's returned Axes instance to different variables. Name the variables after the subplot's position so you know which variable refers to which subplot. Documentation for add_subplot().\n",
    "Now that we have 4 Axes instances, corresponding to the 4 subplots in the scatter matrix, we can generate the graphs that belong on each subplot.\n",
    "\n",
    "In the top-left plot (subplot: 1), plot a histogram of the values in the ShareWomen column. Documentation for hist().\n",
    "In the top-right plot (subplot: 2), plot a scatter plot with ShareWomen as the y-axis and Unemployment_rate as the x-axis. Documentation for scatter().\n",
    "In the bottom-left plot (subplot: 3), plot a scatter plot with Unemployment_rate as the y-axis and ShareWomen as the x-axis. Documentation for scatter().\n",
    "In the bottom-right plot (subplot: 4), plot a histogram of the values in the Unemployment_rate column. Documentation for hist().\n",
    "Here's how the plot should look like so far:\n",
    "\n",
    "\n",
    "  \n",
    "\n",
    " \n"
   ]
  },
  {
   "cell_type": "code",
   "execution_count": 7,
   "metadata": {
    "collapsed": false
   },
   "outputs": [
    {
     "data": {
      "image/png": "[encoded data removed]",
      "text/plain": [
       "<matplotlib.figure.Figure at 0x109a0c550>"
      ]
     },
     "metadata": {},
     "output_type": "display_data"
    }
   ],
   "source": [
    "fig = plt.figure(figsize=(8,8))\n",
    "axtopLeft = fig.add_subplot(2,2,1)\n",
    "axtopRight = fig.add_subplot(2,2,2)\n",
    "axbottomLeft = fig.add_subplot(2,2,3)\n",
    "axbottomRight = fig.add_subplot(2,2,4)\n",
    "\n",
    "axtopLeft.hist(recent_grads_noNA[\"ShareWomen\"])\n",
    "axtopRight.scatter(recent_grads_noNA[\"Unemployment_rate\"], recent_grads_noNA[\"ShareWomen\"])\n",
    "axbottomLeft.scatter(recent_grads_noNA[\"ShareWomen\"], recent_grads_noNA[\"Unemployment_rate\"])\n",
    "axbottomRight.hist(recent_grads_noNA[\"Unemployment_rate\"])\n",
    "\n",
    "axtopLeft.get_xaxis().set_visible(False)\n",
    "axtopRight.get_xaxis().set_visible(False)\n",
    "axtopRight.get_yaxis().set_visible(False)\n",
    "axbottomRight.get_yaxis().set_visible(False)\n",
    "axtopLeft.set_ylabel(\"ShareWomen\")\n",
    "axbottomLeft.set_xlabel(\"ShareWomen\")\n",
    "axbottomLeft.set_ylabel(\"Unemployment_rate\")\n",
    "axbottomRight.set_xlabel(\"Unemployment_rate\")\n",
    "\n",
    "plt.subplots_adjust(wspace=0, hspace=0)\n",
    "plt.show()"
   ]
  },
  {
   "cell_type": "markdown",
   "metadata": {
    "collapsed": false
   },
   "source": [
    "\n",
    "Now let's tweak the appearance to resemble the scatter matrix.\n",
    "\n",
    "To tweak how the axis ticks look, you need to grab a subplot's XAxis or YAxis instance and call specific methods. Use the Axes methods get_xaxis() and get_yaxis() to return a subplot's XAxis instance and YAxis instance. You can then either assign the instances to variables and call methods on the variables or skip the assignment and chain the method directly. ax1_rg.get_yaxis().tick_left() causes the y-axis ticks to be displayed on the left side for that subplot.\n",
    "\n",
    "To adjust the space between subplots, you can use the method subplots_adjust() and set the wspace and hspace parameters.\n",
    "\n",
    "\n",
    "Instructions\n",
    "Hide the x-axis ticks for the 2 subplots on the top row.\n",
    "\n",
    "Use xaxis.set_visible(False) on an Axes instance to hide that subplot's x-axis ticks and the x-axis label. Documentation.\n",
    "Assign the column names as the x-axis and y-axis labels. Use the Axes methods set_xlabel() and set_ylabel() to set the subplot's x-axis and y-axis labels.\n",
    "\n",
    "For subplot 1, set the y-axis label to \"ShareWomen\".\n",
    "For subplot 3, set the x-axis label to \"ShareWomen\" and the y-axis label to \"Unemployment_rate\".\n",
    "For subplot 4, set the x-axis label to \"Unemployment_rate\".\n",
    "Remove the spacing between subplots to match the scatter matrix Pandas generated.\n",
    "\n",
    "Use the Figure method subplots_adjust() to remove the horizontal and vertical spacing between subplots. Read about the parameters you need to tweak on the documentation.\n",
    "Here's how the plot should look like so far:\n",
    "\n"
   ]
  },
  {
   "cell_type": "markdown",
   "metadata": {
    "collapsed": true
   },
   "source": [
    "## Scatter matrix: part 3\n",
    "The last remaining piece is to customize the x-axis and y-axis ticks displayed for subplots 1, 3, and 4. Currently, the x-axis ticks overlap for plots 3 and 4 and the y-axis ticks overlap for plots 1 and 3. We need to manually set the ticks for these 3 plots so there's no overlap.\n",
    "\n",
    "Lastly, to match the scatter matrix generated by the Pandas scatter_matrix() method, we also need to rotate the x-axis ticks by 90 degrees:\n",
    "\n",
    "Plot\n",
    "\n",
    "\n",
    "Instructions\n",
    "Use the Axes methods set_xlim() and set_ylim to set the x-axis and y-axis data limits. Recall that these methods take in 2 parameters, one for the bottom limit and one for the upper limit. Documentation.\n",
    "\n",
    "For subplot 1, set the x-axis data limit to range from 0 to 30.\n",
    "For subplot 2, set the x-axis data limit to range from 0.0 to 1.0.\n",
    "For subplot 3, set the x-axis data limit to range from 0.0 to 1.0.\n",
    "For subplot 3, set the y-axis data limit to range from 0.0 to 0.20.\n",
    "For subplot 4, set the x-axis data limit to range from 0.0 to 0.20.\n",
    "Use the Axes methods set_xticklabels() and set_yticklabels() to set the x-axis and y-axis tick labels. Both these methods take in a list of numeric values and sets those values as the ticks. You can use the rotation parameter to set the rotation to 90 degrees for the x-axis ticks.\n",
    "\n",
    "For subplot 1, use set_yticklabels([0, 5, 10, 15, 20, 25, 30]) to specify the y-axis ticks.\n",
    "For subplot 3, use set_yticklabels([0.00, 0.05, 0.10, 0.15]) to specify the values for the y-axis ticks.\n",
    "For subplot 3, use set_xticklabels([0.0, 0.2, 0.4, 0.6, 0.8], rotation=90) to specify the values for the x-axis ticks and rotate them 90 degrees.\n",
    "For subplot 4, use set_xticklabels([0.00, 0.05, 0.10, 0.15, 0.20], rotation=90) to specify the values for the x-axis ticks and to rotate them 90 degrees.\n"
   ]
  },
  {
   "cell_type": "code",
   "execution_count": 8,
   "metadata": {
    "collapsed": false
   },
   "outputs": [
    {
     "data": {
      "image/png": "[encoded data removed]",
      "text/plain": [
       "<matplotlib.figure.Figure at 0x109e17e80>"
      ]
     },
     "metadata": {},
     "output_type": "display_data"
    }
   ],
   "source": [
    "fig = plt.figure(figsize=(8,8))\n",
    "axtopLeft = fig.add_subplot(2,2,1)\n",
    "axtopRight = fig.add_subplot(2,2,2)\n",
    "axbottomLeft = fig.add_subplot(2,2,3)\n",
    "axbottomRight = fig.add_subplot(2,2,4)\n",
    "\n",
    "axtopLeft.hist(recent_grads_noNA[\"ShareWomen\"])\n",
    "axtopRight.scatter(recent_grads_noNA[\"Unemployment_rate\"], recent_grads_noNA[\"ShareWomen\"])\n",
    "axbottomLeft.scatter(recent_grads_noNA[\"ShareWomen\"], recent_grads_noNA[\"Unemployment_rate\"])\n",
    "axbottomRight.hist(recent_grads_noNA[\"Unemployment_rate\"])\n",
    "\n",
    "axtopLeft.get_xaxis().set_visible(False)\n",
    "axtopRight.get_xaxis().set_visible(False)\n",
    "axtopRight.get_yaxis().set_visible(False)\n",
    "axbottomRight.get_yaxis().set_visible(False)\n",
    "axtopLeft.set_ylabel(\"ShareWomen\")\n",
    "axbottomLeft.set_xlabel(\"ShareWomen\")\n",
    "axbottomLeft.set_ylabel(\"Unemployment_rate\")\n",
    "axbottomRight.set_xlabel(\"Unemployment_rate\")\n",
    "axtopLeft.set_ylim(0,30)\n",
    "axtopRight.set_ylim(0.0, 1.0)\n",
    "axbottomLeft.set_xlim(0.0, 1.0)\n",
    "axbottomLeft.set_ylim(0.0, 0.20)\n",
    "axbottomRight.set_xlim(0.0,0.20)\n",
    "axtopLeft.set_yticklabels([0,5,10,15,20,25,30])\n",
    "axbottomLeft.set_xticklabels([0.0,0.2,0.4,0.6,0.8], rotation=90)\n",
    "axbottomLeft.set_yticklabels([0.00,0.05,0.10,0.15])\n",
    "axbottomRight.set_xticklabels([0.00, 0.05, 0.10, 0.15, 0.20], rotation=90)\n",
    "plt.subplots_adjust(wspace=0, hspace=0)\n",
    "plt.show()"
   ]
  },
  {
   "cell_type": "markdown",
   "metadata": {},
   "source": [
    "## Grouped bar plot, part 1\n",
    "6 / 8 \n",
    "Since the dataset on recent college graduates contains information on the number of males and females included in the study, you can create a grouped bar plot to compare the gender ratios across majors. A grouped bar plot is a type of data visualization that enable you to easily compare groups of related bars together. A grouped bar plot would allow us to visually understand the gender imbalance for each major since the bars representing the proportion of men and the proportion of women for each major would be grouped together.\n",
    "\n",
    "Pandas allows you to easily create a grouped bar plot on by using the plot() method. You need to first filter the DataFrame down to the columns you want visualized as bars and set the type parameter to \"bar\" when calling the plot() method. Running the following code creates a grouped bar plot of the proportion of males and proportion of females for each Arts major:\n",
    "\n",
    "arts = recent_grads[recent_grads[\"Major_category\"] == \"Arts\"]\n",
    "arts.set_index(\"Major\", inplace=True)\n",
    "arts[[\"ShareMen\", \"ShareWomen\"]].plot(kind=\"bar\")\n",
    "After filtering the DataFrame down to only the majors categorized as Arts, we set the DataFrame's index to the Major column so Pandas uses the major names as the x-axis labels. Here's how that plot looks like:\n",
    "\n",
    "Plot\n",
    "\n",
    "The blue bars represent the proportion of male students while the green bars represent the proportion of female students. This plot allows you to easily see the gender balance for each of the majors in the Arts category. In this step, we'll prepare the DataFrame and generate the bars for just the male proportions and avoid any thorough styling for now.\n",
    "\n",
    "\n",
    "Instructions\n",
    "While we have a ShareWomen column for the proportion of women in that major, we need a column that describes the proportion of men.\n",
    "\n",
    "Divide the Men column by the Total column and assign it to a new column in the DataFrame called ShareMen.\n",
    "Return a DataFrame containing just the arts majors (where Major_category is \"Arts\") and assign it to a variable.\n",
    "\n",
    "Create a Figure instance and add a single subplot.\n",
    "\n",
    "Use plt.figure() to create a Figure instance and assign the returned object to a variable.\n",
    "Experiment with the size of the total plotting area using the figsize parameter - e.g. fig = plt.figure(figsize=(8,8)) sets the plotting area to 8 inches by 8 inches.\n",
    "Create a single subplot using the add_subplot() method and assign the returned Axes instance to a variable.\n",
    "Import NumPy and use the NumPy function arange() to generate a list of integer values, from 0 to n-1, for each major (n majors total). Documentation for arange().\n",
    "\n",
    "Assign to the variable locs. We'll use this list for the placement of the bars in the bar plot.\n",
    "Since there are 8 majors, this list should be: [0,1,2,3,4,5,6,7].\n",
    "Use the Axes method bar() to generate the bars for the ShareMen column. Assign the returned object to bar_1. Documentation for bar().\n",
    "\n",
    "Use the first parameter (left) to specify the x coordinates for the left sides of the bars.\n",
    "Use the list of placement values locs for this parameter.\n",
    "Use the second parameter (height) to specify the height of each of the bars.\n",
    "The value for this parameter should be the list of values from the ShareMen column. Use the Series method tolist() to convert the column to a list.\n",
    "Use the third parameter (width) to specify the width of each of the bars.\n",
    "We'll use 0.35 to start but you can experiment with this value. We recommend setting this value to a variable so you can refer to it later.\n",
    "Use the Axes method set_xticklabels() to assign the major names to the x-axis labels and rotate the labels by 90 degrees. Documentation for set_xticklabels()\n",
    "\n",
    "Pass in the list of major names as the first parameter. Select the Major column from the DataFrame and use the Series method tolist() to convert to a list.\n",
    "Set the rotation parameter to 90.\n",
    "Here's how the plot should look like so far:\n",
    "\n",
    "Plot\n",
    "\n"
   ]
  },
  {
   "cell_type": "code",
   "execution_count": 9,
   "metadata": {
    "collapsed": false
   },
   "outputs": [
    {
     "name": "stderr",
     "output_type": "stream",
     "text": [
      "/Users/kaitfolweiler/anaconda3/lib/python3.5/site-packages/ipykernel/__main__.py:1: SettingWithCopyWarning: \n",
      "A value is trying to be set on a copy of a slice from a DataFrame.\n",
      "Try using .loc[row_indexer,col_indexer] = value instead\n",
      "\n",
      "See the caveats in the documentation: http://pandas.pydata.org/pandas-docs/stable/indexing.html#indexing-view-versus-copy\n",
      "  if __name__ == '__main__':\n"
     ]
    },
    {
     "data": {
      "text/html": [
       "<div>\n",
       "<table border=\"1\" class=\"dataframe\">\n",
       "  <thead>\n",
       "    <tr style=\"text-align: right;\">\n",
       "      <th></th>\n",
       "      <th>Rank</th>\n",
       "      <th>Major_code</th>\n",
       "      <th>Major</th>\n",
       "      <th>Total</th>\n",
       "      <th>Men</th>\n",
       "      <th>Women</th>\n",
       "      <th>Major_category</th>\n",
       "      <th>ShareWomen</th>\n",
       "      <th>Sample_size</th>\n",
       "      <th>Employed</th>\n",
       "      <th>...</th>\n",
       "      <th>Full_time_year_round</th>\n",
       "      <th>Unemployed</th>\n",
       "      <th>Unemployment_rate</th>\n",
       "      <th>Median</th>\n",
       "      <th>P25th</th>\n",
       "      <th>P75th</th>\n",
       "      <th>College_jobs</th>\n",
       "      <th>Non_college_jobs</th>\n",
       "      <th>Low_wage_jobs</th>\n",
       "      <th>ShareMen</th>\n",
       "    </tr>\n",
       "  </thead>\n",
       "  <tbody>\n",
       "    <tr>\n",
       "      <th>0</th>\n",
       "      <td>1</td>\n",
       "      <td>2419</td>\n",
       "      <td>PETROLEUM ENGINEERING</td>\n",
       "      <td>2339</td>\n",
       "      <td>2057</td>\n",
       "      <td>282</td>\n",
       "      <td>Engineering</td>\n",
       "      <td>0.120564</td>\n",
       "      <td>36</td>\n",
       "      <td>1976</td>\n",
       "      <td>...</td>\n",
       "      <td>1207</td>\n",
       "      <td>37</td>\n",
       "      <td>0.018381</td>\n",
       "      <td>110000</td>\n",
       "      <td>95000</td>\n",
       "      <td>125000</td>\n",
       "      <td>1534</td>\n",
       "      <td>364</td>\n",
       "      <td>193</td>\n",
       "      <td>0.879436</td>\n",
       "    </tr>\n",
       "    <tr>\n",
       "      <th>1</th>\n",
       "      <td>2</td>\n",
       "      <td>2416</td>\n",
       "      <td>MINING AND MINERAL ENGINEERING</td>\n",
       "      <td>756</td>\n",
       "      <td>679</td>\n",
       "      <td>77</td>\n",
       "      <td>Engineering</td>\n",
       "      <td>0.101852</td>\n",
       "      <td>7</td>\n",
       "      <td>640</td>\n",
       "      <td>...</td>\n",
       "      <td>388</td>\n",
       "      <td>85</td>\n",
       "      <td>0.117241</td>\n",
       "      <td>75000</td>\n",
       "      <td>55000</td>\n",
       "      <td>90000</td>\n",
       "      <td>350</td>\n",
       "      <td>257</td>\n",
       "      <td>50</td>\n",
       "      <td>0.898148</td>\n",
       "    </tr>\n",
       "    <tr>\n",
       "      <th>2</th>\n",
       "      <td>3</td>\n",
       "      <td>2415</td>\n",
       "      <td>METALLURGICAL ENGINEERING</td>\n",
       "      <td>856</td>\n",
       "      <td>725</td>\n",
       "      <td>131</td>\n",
       "      <td>Engineering</td>\n",
       "      <td>0.153037</td>\n",
       "      <td>3</td>\n",
       "      <td>648</td>\n",
       "      <td>...</td>\n",
       "      <td>340</td>\n",
       "      <td>16</td>\n",
       "      <td>0.024096</td>\n",
       "      <td>73000</td>\n",
       "      <td>50000</td>\n",
       "      <td>105000</td>\n",
       "      <td>456</td>\n",
       "      <td>176</td>\n",
       "      <td>0</td>\n",
       "      <td>0.846963</td>\n",
       "    </tr>\n",
       "    <tr>\n",
       "      <th>3</th>\n",
       "      <td>4</td>\n",
       "      <td>2417</td>\n",
       "      <td>NAVAL ARCHITECTURE AND MARINE ENGINEERING</td>\n",
       "      <td>1258</td>\n",
       "      <td>1123</td>\n",
       "      <td>135</td>\n",
       "      <td>Engineering</td>\n",
       "      <td>0.107313</td>\n",
       "      <td>16</td>\n",
       "      <td>758</td>\n",
       "      <td>...</td>\n",
       "      <td>692</td>\n",
       "      <td>40</td>\n",
       "      <td>0.050125</td>\n",
       "      <td>70000</td>\n",
       "      <td>43000</td>\n",
       "      <td>80000</td>\n",
       "      <td>529</td>\n",
       "      <td>102</td>\n",
       "      <td>0</td>\n",
       "      <td>0.892687</td>\n",
       "    </tr>\n",
       "    <tr>\n",
       "      <th>4</th>\n",
       "      <td>5</td>\n",
       "      <td>2405</td>\n",
       "      <td>CHEMICAL ENGINEERING</td>\n",
       "      <td>32260</td>\n",
       "      <td>21239</td>\n",
       "      <td>11021</td>\n",
       "      <td>Engineering</td>\n",
       "      <td>0.341631</td>\n",
       "      <td>289</td>\n",
       "      <td>25694</td>\n",
       "      <td>...</td>\n",
       "      <td>16697</td>\n",
       "      <td>1672</td>\n",
       "      <td>0.061098</td>\n",
       "      <td>65000</td>\n",
       "      <td>50000</td>\n",
       "      <td>75000</td>\n",
       "      <td>18314</td>\n",
       "      <td>4440</td>\n",
       "      <td>972</td>\n",
       "      <td>0.658369</td>\n",
       "    </tr>\n",
       "  </tbody>\n",
       "</table>\n",
       "<p>5 rows × 22 columns</p>\n",
       "</div>"
      ],
      "text/plain": [
       "   Rank  Major_code                                      Major  Total    Men  \\\n",
       "0     1        2419                      PETROLEUM ENGINEERING   2339   2057   \n",
       "1     2        2416             MINING AND MINERAL ENGINEERING    756    679   \n",
       "2     3        2415                  METALLURGICAL ENGINEERING    856    725   \n",
       "3     4        2417  NAVAL ARCHITECTURE AND MARINE ENGINEERING   1258   1123   \n",
       "4     5        2405                       CHEMICAL ENGINEERING  32260  21239   \n",
       "\n",
       "   Women Major_category  ShareWomen  Sample_size  Employed    ...     \\\n",
       "0    282    Engineering    0.120564           36      1976    ...      \n",
       "1     77    Engineering    0.101852            7       640    ...      \n",
       "2    131    Engineering    0.153037            3       648    ...      \n",
       "3    135    Engineering    0.107313           16       758    ...      \n",
       "4  11021    Engineering    0.341631          289     25694    ...      \n",
       "\n",
       "   Full_time_year_round  Unemployed  Unemployment_rate  Median  P25th   P75th  \\\n",
       "0                  1207          37           0.018381  110000  95000  125000   \n",
       "1                   388          85           0.117241   75000  55000   90000   \n",
       "2                   340          16           0.024096   73000  50000  105000   \n",
       "3                   692          40           0.050125   70000  43000   80000   \n",
       "4                 16697        1672           0.061098   65000  50000   75000   \n",
       "\n",
       "   College_jobs  Non_college_jobs  Low_wage_jobs  ShareMen  \n",
       "0          1534               364            193  0.879436  \n",
       "1           350               257             50  0.898148  \n",
       "2           456               176              0  0.846963  \n",
       "3           529               102              0  0.892687  \n",
       "4         18314              4440            972  0.658369  \n",
       "\n",
       "[5 rows x 22 columns]"
      ]
     },
     "execution_count": 9,
     "metadata": {},
     "output_type": "execute_result"
    }
   ],
   "source": [
    "recent_grads_noNA['ShareMen'] = recent_grads_noNA[\"Men\"] /recent_grads_noNA[\"Total\"]\n",
    "\n",
    "recent_grads_noNA.head()\n"
   ]
  },
  {
   "cell_type": "code",
   "execution_count": 10,
   "metadata": {
    "collapsed": false
   },
   "outputs": [],
   "source": [
    "arts = recent_grads_noNA[recent_grads_noNA[\"Major_category\"]==\"Arts\"]"
   ]
  },
  {
   "cell_type": "code",
   "execution_count": 11,
   "metadata": {
    "collapsed": true
   },
   "outputs": [],
   "source": [
    "import numpy as np\n",
    "locs = np.arange(len(np.unique(arts[\"Major\"])))"
   ]
  },
  {
   "cell_type": "code",
   "execution_count": 12,
   "metadata": {
    "collapsed": false
   },
   "outputs": [
    {
     "data": {
      "image/png": "[encoded data removed]",
      "text/plain": [
       "<matplotlib.figure.Figure at 0x109c4f898>"
      ]
     },
     "metadata": {},
     "output_type": "display_data"
    }
   ],
   "source": [
    "fig = plt.figure(figsize=(8,8))\n",
    "ax = fig.add_subplot(111)\n",
    "ax.set_xticklabels(list(arts[\"Major\"]), rotation=90)\n",
    "bar_1 = ax.bar(left=locs, height=list(arts[\"ShareMen\"]), width=0.35)\n",
    "\n",
    "plt.show()"
   ]
  },
  {
   "cell_type": "markdown",
   "metadata": {},
   "source": [
    "## Grouped bar plot, part 2\n",
    "\n",
    "In this step, we need to add the bars representing the proportion of women for each Arts major. To closer match the style of the Pandas grouped bar plot, let's add a legend describing the color corresponding to each column and enable the grid to to be displayed in the background. Lastly, let's adjust the x-axis labels so they align with the bars better.\n"
   ]
  },
  {
   "cell_type": "markdown",
   "metadata": {},
   "source": [
    "Instructions\n",
    "\n",
    "We need a list of placement values for the new bars that are offset (or the bars for ShareWomen will just overlap the bars for ShareMen).\n",
    "\n",
    "Offset the values in locs by the width of each bar (0.35) by adding 0.35 to each value in locs. Assign the new list to offset_locs.\n",
    "Generate the bars for the ShareWomen column using the Axes method bar(). Assign the returned object to bar_2. Documentation for bar()\n",
    "\n",
    "For the first parameter (left), use offset_locs. This will place the bars for ShareWomen right next to the bars for ShareMen.\n",
    "For the second parameter (height), use the values from the ShareWomen column.\n",
    "For the third parameter (width), use the value 0.35 that we've been using for the bar widths.\n",
    "Use the parameter (color) to specify that we want the bars to be colored \"green\".\n",
    "Align the x-axis labels better with the grouped bars using the Axes method set_xticks(). Documentation for set_xticks()\n",
    "\n",
    "Pass in the list offset_locs to set_xticks() to align the x-axis labels with the left edge of the bars for ShareWomen.\n",
    "Create a legend that specifies the color for each column's bars using the Plot method legend(). Documentation for legend()\n",
    "\n",
    "Read about how to create a legend in Matplotlib here.\n",
    "Use plt.legend((bar_1, bar_2), (\"ShareMen\", \"ShareWomen\"), loc=\"upper left\") to create the legend that matches the one Pandas generated.\n",
    "Display the background grid using the Plot method grid(). Documentation for grid()\n",
    "\n",
    "Here's how the completed plot should look like:\n",
    "\n",
    "\n",
    "  \n",
    "\n",
    " \n"
   ]
  },
  {
   "cell_type": "code",
   "execution_count": 13,
   "metadata": {
    "collapsed": true
   },
   "outputs": [],
   "source": [
    "offset_locs = locs + 0.35"
   ]
  },
  {
   "cell_type": "code",
   "execution_count": 15,
   "metadata": {
    "collapsed": false
   },
   "outputs": [
    {
     "data": {
      "image/png": "[encoded data removed]",
      "text/plain": [
       "<matplotlib.figure.Figure at 0x109cf14e0>"
      ]
     },
     "metadata": {},
     "output_type": "display_data"
    }
   ],
   "source": [
    "fig = plt.figure(figsize=(8,8))\n",
    "ax = fig.add_subplot(111)\n",
    "ax.set_xticklabels(list(arts[\"Major\"]), rotation=90)\n",
    "bar_1 = ax.bar(left=locs, height=list(arts[\"ShareMen\"]), width=0.35)\n",
    "bar_2 = ax.bar(left=offset_locs, height=list(arts[\"ShareWomen\"]),width=0.35, color=\"green\")\n",
    "ax.set_xticks(offset_locs)\n",
    "\n",
    "plt.legend((bar_1,bar_2), (\"ShareMen\", \"ShareWomen\"), loc=\"upper left\")\n",
    "plt.grid()\n",
    "plt.show()"
   ]
  },
  {
   "cell_type": "code",
   "execution_count": null,
   "metadata": {
    "collapsed": true
   },
   "outputs": [],
   "source": []
  }
 ],
 "metadata": {
  "kernelspec": {
   "display_name": "Python 3",
   "language": "python",
   "name": "python3"
  },
  "language_info": {
   "codemirror_mode": {
    "name": "ipython",
    "version": 3
   },
   "file_extension": ".py",
   "mimetype": "text/x-python",
   "name": "python",
   "nbconvert_exporter": "python",
   "pygments_lexer": "ipython3",
   "version": "3.5.1"
  }
 },
 "nbformat": 4,
 "nbformat_minor": 0
}
