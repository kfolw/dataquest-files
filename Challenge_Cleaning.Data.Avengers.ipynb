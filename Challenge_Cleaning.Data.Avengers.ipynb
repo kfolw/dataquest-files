{
 "cells": [
  {
   "cell_type": "markdown",
   "metadata": {},
   "source": [
    "The team at FiveThirtyEight wanted to dissect the deaths of the Avengers in the comics over the years. The writers were known to kill off and revive many of the superheroes so they were curious to know what data they could grab from the Marvel Wikia site, a fan-driven community site, to explore further. To learn how they collected their data, which is available on their Github repo, read the writeup they published on their site.\n",
    "\n",
    "While the FiveThirtyEight team has done a wonderful job acquiring this data, the data still has some inconsistencies. Your mission, if you choose to accept it, is to clean up their dataset so it can be more useful for analysis in Pandas. First things first: read our dataset into Pandas as a DataFrame and preview the first 5 rows to get a better sense of our data."
   ]
  },
  {
   "cell_type": "code",
   "execution_count": 3,
   "metadata": {
    "collapsed": false
   },
   "outputs": [
    {
     "data": {
      "text/html": [
       "<div>\n",
       "<table border=\"1\" class=\"dataframe\">\n",
       "  <thead>\n",
       "    <tr style=\"text-align: right;\">\n",
       "      <th></th>\n",
       "      <th>Name/Alias</th>\n",
       "      <th>Appearances</th>\n",
       "      <th>Current?</th>\n",
       "      <th>Gender</th>\n",
       "      <th>Probationary Introl</th>\n",
       "      <th>Full/Reserve Avengers Intro</th>\n",
       "      <th>Year</th>\n",
       "      <th>Years since joining</th>\n",
       "      <th>Honorary</th>\n",
       "      <th>Death1</th>\n",
       "      <th>Return1</th>\n",
       "      <th>Death2</th>\n",
       "      <th>Return2</th>\n",
       "      <th>Death3</th>\n",
       "      <th>Return3</th>\n",
       "      <th>Death4</th>\n",
       "      <th>Return4</th>\n",
       "      <th>Death5</th>\n",
       "      <th>Return5</th>\n",
       "      <th>Notes</th>\n",
       "    </tr>\n",
       "    <tr>\n",
       "      <th>URL</th>\n",
       "      <th></th>\n",
       "      <th></th>\n",
       "      <th></th>\n",
       "      <th></th>\n",
       "      <th></th>\n",
       "      <th></th>\n",
       "      <th></th>\n",
       "      <th></th>\n",
       "      <th></th>\n",
       "      <th></th>\n",
       "      <th></th>\n",
       "      <th></th>\n",
       "      <th></th>\n",
       "      <th></th>\n",
       "      <th></th>\n",
       "      <th></th>\n",
       "      <th></th>\n",
       "      <th></th>\n",
       "      <th></th>\n",
       "      <th></th>\n",
       "    </tr>\n",
       "  </thead>\n",
       "  <tbody>\n",
       "    <tr>\n",
       "      <th>http://marvel.wikia.com/Henry_Pym_(Earth-616)</th>\n",
       "      <td>Henry Jonathan \"Hank\" Pym</td>\n",
       "      <td>1269</td>\n",
       "      <td>YES</td>\n",
       "      <td>MALE</td>\n",
       "      <td>NaN</td>\n",
       "      <td>Sep-63</td>\n",
       "      <td>1963</td>\n",
       "      <td>52</td>\n",
       "      <td>Full</td>\n",
       "      <td>YES</td>\n",
       "      <td>NO</td>\n",
       "      <td>NaN</td>\n",
       "      <td>NaN</td>\n",
       "      <td>NaN</td>\n",
       "      <td>NaN</td>\n",
       "      <td>NaN</td>\n",
       "      <td>NaN</td>\n",
       "      <td>NaN</td>\n",
       "      <td>NaN</td>\n",
       "      <td>Merged with Ultron in Rage of Ultron Vol. 1. A...</td>\n",
       "    </tr>\n",
       "    <tr>\n",
       "      <th>http://marvel.wikia.com/Janet_van_Dyne_(Earth-616)</th>\n",
       "      <td>Janet van Dyne</td>\n",
       "      <td>1165</td>\n",
       "      <td>YES</td>\n",
       "      <td>FEMALE</td>\n",
       "      <td>NaN</td>\n",
       "      <td>Sep-63</td>\n",
       "      <td>1963</td>\n",
       "      <td>52</td>\n",
       "      <td>Full</td>\n",
       "      <td>YES</td>\n",
       "      <td>YES</td>\n",
       "      <td>NaN</td>\n",
       "      <td>NaN</td>\n",
       "      <td>NaN</td>\n",
       "      <td>NaN</td>\n",
       "      <td>NaN</td>\n",
       "      <td>NaN</td>\n",
       "      <td>NaN</td>\n",
       "      <td>NaN</td>\n",
       "      <td>Dies in Secret Invasion V1:I8. Actually was se...</td>\n",
       "    </tr>\n",
       "    <tr>\n",
       "      <th>http://marvel.wikia.com/Anthony_Stark_(Earth-616)</th>\n",
       "      <td>Anthony Edward \"Tony\" Stark</td>\n",
       "      <td>3068</td>\n",
       "      <td>YES</td>\n",
       "      <td>MALE</td>\n",
       "      <td>NaN</td>\n",
       "      <td>Sep-63</td>\n",
       "      <td>1963</td>\n",
       "      <td>52</td>\n",
       "      <td>Full</td>\n",
       "      <td>YES</td>\n",
       "      <td>YES</td>\n",
       "      <td>NaN</td>\n",
       "      <td>NaN</td>\n",
       "      <td>NaN</td>\n",
       "      <td>NaN</td>\n",
       "      <td>NaN</td>\n",
       "      <td>NaN</td>\n",
       "      <td>NaN</td>\n",
       "      <td>NaN</td>\n",
       "      <td>Death: \"Later while under the influence of Imm...</td>\n",
       "    </tr>\n",
       "    <tr>\n",
       "      <th>http://marvel.wikia.com/Robert_Bruce_Banner_(Earth-616)</th>\n",
       "      <td>Robert Bruce Banner</td>\n",
       "      <td>2089</td>\n",
       "      <td>YES</td>\n",
       "      <td>MALE</td>\n",
       "      <td>NaN</td>\n",
       "      <td>Sep-63</td>\n",
       "      <td>1963</td>\n",
       "      <td>52</td>\n",
       "      <td>Full</td>\n",
       "      <td>YES</td>\n",
       "      <td>YES</td>\n",
       "      <td>NaN</td>\n",
       "      <td>NaN</td>\n",
       "      <td>NaN</td>\n",
       "      <td>NaN</td>\n",
       "      <td>NaN</td>\n",
       "      <td>NaN</td>\n",
       "      <td>NaN</td>\n",
       "      <td>NaN</td>\n",
       "      <td>Dies in Ghosts of the Future arc. However \"he ...</td>\n",
       "    </tr>\n",
       "    <tr>\n",
       "      <th>http://marvel.wikia.com/Thor_Odinson_(Earth-616)</th>\n",
       "      <td>Thor Odinson</td>\n",
       "      <td>2402</td>\n",
       "      <td>YES</td>\n",
       "      <td>MALE</td>\n",
       "      <td>NaN</td>\n",
       "      <td>Sep-63</td>\n",
       "      <td>1963</td>\n",
       "      <td>52</td>\n",
       "      <td>Full</td>\n",
       "      <td>YES</td>\n",
       "      <td>YES</td>\n",
       "      <td>YES</td>\n",
       "      <td>NO</td>\n",
       "      <td>NaN</td>\n",
       "      <td>NaN</td>\n",
       "      <td>NaN</td>\n",
       "      <td>NaN</td>\n",
       "      <td>NaN</td>\n",
       "      <td>NaN</td>\n",
       "      <td>Dies in Fear Itself brought back because that'...</td>\n",
       "    </tr>\n",
       "  </tbody>\n",
       "</table>\n",
       "</div>"
      ],
      "text/plain": [
       "                                                                     Name/Alias  \\\n",
       "URL                                                                               \n",
       "http://marvel.wikia.com/Henry_Pym_(Earth-616)         Henry Jonathan \"Hank\" Pym   \n",
       "http://marvel.wikia.com/Janet_van_Dyne_(Earth-616)               Janet van Dyne   \n",
       "http://marvel.wikia.com/Anthony_Stark_(Earth-616)   Anthony Edward \"Tony\" Stark   \n",
       "http://marvel.wikia.com/Robert_Bruce_Banner_(Ea...          Robert Bruce Banner   \n",
       "http://marvel.wikia.com/Thor_Odinson_(Earth-616)                   Thor Odinson   \n",
       "\n",
       "                                                    Appearances Current?  \\\n",
       "URL                                                                        \n",
       "http://marvel.wikia.com/Henry_Pym_(Earth-616)              1269      YES   \n",
       "http://marvel.wikia.com/Janet_van_Dyne_(Earth-616)         1165      YES   \n",
       "http://marvel.wikia.com/Anthony_Stark_(Earth-616)          3068      YES   \n",
       "http://marvel.wikia.com/Robert_Bruce_Banner_(Ea...         2089      YES   \n",
       "http://marvel.wikia.com/Thor_Odinson_(Earth-616)           2402      YES   \n",
       "\n",
       "                                                    Gender  \\\n",
       "URL                                                          \n",
       "http://marvel.wikia.com/Henry_Pym_(Earth-616)         MALE   \n",
       "http://marvel.wikia.com/Janet_van_Dyne_(Earth-616)  FEMALE   \n",
       "http://marvel.wikia.com/Anthony_Stark_(Earth-616)     MALE   \n",
       "http://marvel.wikia.com/Robert_Bruce_Banner_(Ea...    MALE   \n",
       "http://marvel.wikia.com/Thor_Odinson_(Earth-616)      MALE   \n",
       "\n",
       "                                                   Probationary Introl  \\\n",
       "URL                                                                      \n",
       "http://marvel.wikia.com/Henry_Pym_(Earth-616)                      NaN   \n",
       "http://marvel.wikia.com/Janet_van_Dyne_(Earth-616)                 NaN   \n",
       "http://marvel.wikia.com/Anthony_Stark_(Earth-616)                  NaN   \n",
       "http://marvel.wikia.com/Robert_Bruce_Banner_(Ea...                 NaN   \n",
       "http://marvel.wikia.com/Thor_Odinson_(Earth-616)                   NaN   \n",
       "\n",
       "                                                   Full/Reserve Avengers Intro  \\\n",
       "URL                                                                              \n",
       "http://marvel.wikia.com/Henry_Pym_(Earth-616)                           Sep-63   \n",
       "http://marvel.wikia.com/Janet_van_Dyne_(Earth-616)                      Sep-63   \n",
       "http://marvel.wikia.com/Anthony_Stark_(Earth-616)                       Sep-63   \n",
       "http://marvel.wikia.com/Robert_Bruce_Banner_(Ea...                      Sep-63   \n",
       "http://marvel.wikia.com/Thor_Odinson_(Earth-616)                        Sep-63   \n",
       "\n",
       "                                                    Year  Years since joining  \\\n",
       "URL                                                                             \n",
       "http://marvel.wikia.com/Henry_Pym_(Earth-616)       1963                   52   \n",
       "http://marvel.wikia.com/Janet_van_Dyne_(Earth-616)  1963                   52   \n",
       "http://marvel.wikia.com/Anthony_Stark_(Earth-616)   1963                   52   \n",
       "http://marvel.wikia.com/Robert_Bruce_Banner_(Ea...  1963                   52   \n",
       "http://marvel.wikia.com/Thor_Odinson_(Earth-616)    1963                   52   \n",
       "\n",
       "                                                   Honorary Death1 Return1  \\\n",
       "URL                                                                          \n",
       "http://marvel.wikia.com/Henry_Pym_(Earth-616)          Full    YES      NO   \n",
       "http://marvel.wikia.com/Janet_van_Dyne_(Earth-616)     Full    YES     YES   \n",
       "http://marvel.wikia.com/Anthony_Stark_(Earth-616)      Full    YES     YES   \n",
       "http://marvel.wikia.com/Robert_Bruce_Banner_(Ea...     Full    YES     YES   \n",
       "http://marvel.wikia.com/Thor_Odinson_(Earth-616)       Full    YES     YES   \n",
       "\n",
       "                                                   Death2 Return2 Death3  \\\n",
       "URL                                                                        \n",
       "http://marvel.wikia.com/Henry_Pym_(Earth-616)         NaN     NaN    NaN   \n",
       "http://marvel.wikia.com/Janet_van_Dyne_(Earth-616)    NaN     NaN    NaN   \n",
       "http://marvel.wikia.com/Anthony_Stark_(Earth-616)     NaN     NaN    NaN   \n",
       "http://marvel.wikia.com/Robert_Bruce_Banner_(Ea...    NaN     NaN    NaN   \n",
       "http://marvel.wikia.com/Thor_Odinson_(Earth-616)      YES      NO    NaN   \n",
       "\n",
       "                                                   Return3 Death4 Return4  \\\n",
       "URL                                                                         \n",
       "http://marvel.wikia.com/Henry_Pym_(Earth-616)          NaN    NaN     NaN   \n",
       "http://marvel.wikia.com/Janet_van_Dyne_(Earth-616)     NaN    NaN     NaN   \n",
       "http://marvel.wikia.com/Anthony_Stark_(Earth-616)      NaN    NaN     NaN   \n",
       "http://marvel.wikia.com/Robert_Bruce_Banner_(Ea...     NaN    NaN     NaN   \n",
       "http://marvel.wikia.com/Thor_Odinson_(Earth-616)       NaN    NaN     NaN   \n",
       "\n",
       "                                                   Death5 Return5  \\\n",
       "URL                                                                 \n",
       "http://marvel.wikia.com/Henry_Pym_(Earth-616)         NaN     NaN   \n",
       "http://marvel.wikia.com/Janet_van_Dyne_(Earth-616)    NaN     NaN   \n",
       "http://marvel.wikia.com/Anthony_Stark_(Earth-616)     NaN     NaN   \n",
       "http://marvel.wikia.com/Robert_Bruce_Banner_(Ea...    NaN     NaN   \n",
       "http://marvel.wikia.com/Thor_Odinson_(Earth-616)      NaN     NaN   \n",
       "\n",
       "                                                                                                Notes  \n",
       "URL                                                                                                    \n",
       "http://marvel.wikia.com/Henry_Pym_(Earth-616)       Merged with Ultron in Rage of Ultron Vol. 1. A...  \n",
       "http://marvel.wikia.com/Janet_van_Dyne_(Earth-616)  Dies in Secret Invasion V1:I8. Actually was se...  \n",
       "http://marvel.wikia.com/Anthony_Stark_(Earth-616)   Death: \"Later while under the influence of Imm...  \n",
       "http://marvel.wikia.com/Robert_Bruce_Banner_(Ea...  Dies in Ghosts of the Future arc. However \"he ...  \n",
       "http://marvel.wikia.com/Thor_Odinson_(Earth-616)    Dies in Fear Itself brought back because that'...  "
      ]
     },
     "execution_count": 3,
     "metadata": {},
     "output_type": "execute_result"
    }
   ],
   "source": [
    "import pandas as pd\n",
    "url = 'https://raw.githubusercontent.com/fivethirtyeight/data/master/avengers/avengers.csv'\n",
    "avengers = pd.read_csv(url, index_col=0,parse_dates=[0])\n",
    "avengers.head(5)"
   ]
  },
  {
   "cell_type": "code",
   "execution_count": 4,
   "metadata": {
    "collapsed": false
   },
   "outputs": [
    {
     "data": {
      "text/plain": [
       "<matplotlib.axes._subplots.AxesSubplot at 0x10df130b8>"
      ]
     },
     "execution_count": 4,
     "metadata": {},
     "output_type": "execute_result"
    },
    {
     "data": {
      "image/png": "[encoded data removed]",
      "text/plain": [
       "<matplotlib.figure.Figure at 0x10dbc37f0>"
      ]
     },
     "metadata": {},
     "output_type": "display_data"
    }
   ],
   "source": [
    "import matplotlib.pyplot as plt\n",
    "%matplotlib inline\n",
    "true_avengers = pd.DataFrame()\n",
    "\n",
    "avengers['Year'].hist()"
   ]
  },
  {
   "cell_type": "markdown",
   "metadata": {},
   "source": [
    "We only want to keep the Avengers who were introduced after 1960. Filter out all Avengers introduced before 1960 and store only the ones added in 1960 or later in true_avengers."
   ]
  },
  {
   "cell_type": "code",
   "execution_count": 55,
   "metadata": {
    "collapsed": true
   },
   "outputs": [],
   "source": [
    "true_avengers = avengers[avengers[\"Year\"]>=1960]"
   ]
  },
  {
   "cell_type": "markdown",
   "metadata": {},
   "source": [
    "We are interested in the number of total deaths each character experienced and we'd like a field containing that distilled information. Right now, there are 5 fields (Death1 to Death5) that each contain a binary value representing if a superhero experienced that death or not. For example, a superhero can experience Death1, then Death2, etc. until they were no longer brought back to life by the writers.\n",
    "\n",
    "We'd like to coalesce that information into just one field so we can do numerical analysis more easily.\n",
    "\n",
    "\n",
    "Create a new column, Deaths, that contains the number of times each superhero died. The possible values for each death field are YES, NO, and the Pandas NaN value used to represent missing data. Keep all of the original columns (including Death1 to Death5) and update true_avengers with the new Deaths column."
   ]
  },
  {
   "cell_type": "code",
   "execution_count": 57,
   "metadata": {
    "collapsed": false
   },
   "outputs": [
    {
     "name": "stderr",
     "output_type": "stream",
     "text": [
      "/Users/kaitfolweiler/anaconda3/lib/python3.5/site-packages/ipykernel/__main__.py:9: SettingWithCopyWarning: \n",
      "A value is trying to be set on a copy of a slice from a DataFrame.\n",
      "Try using .loc[row_indexer,col_indexer] = value instead\n",
      "\n",
      "See the caveats in the documentation: http://pandas.pydata.org/pandas-docs/stable/indexing.html#indexing-view-versus-copy\n"
     ]
    },
    {
     "data": {
      "text/plain": [
       "\"\\nAlternative solution given by DQ:\\n\\ncolumns = ['Death1', 'Death2', 'Death3', 'Death4', 'Death5']\\ntrue_avengers[columns]\\ndef clean_deaths(row):\\n    num_deaths = 0\\n    columns = ['Death1', 'Death2', 'Death3', 'Death4', 'Death5']\\n    \\n    for c in columns:\\n        death = row[c]\\n        if pd.isnull(death) or death == 'NO':\\n            continue\\n        elif death == 'YES':\\n            num_deaths += 1\\n    return num_deaths\\n\\ntrue_avengers['Deaths'] = true_avengers.apply(lambda row: clean_deaths(row), axis=1)\\n\""
      ]
     },
     "execution_count": 57,
     "metadata": {},
     "output_type": "execute_result"
    }
   ],
   "source": [
    "columns = ['Death1', 'Death2', 'Death3', 'Death4', 'Death5']\n",
    "death_cols = true_avengers[columns]\n",
    "#Replace NaNs with zeros\n",
    "death_cols = death_cols.fillna(0)\n",
    "#Replace strings with integers   \n",
    "death_cols = death_cols.replace(to_replace='YES', value=1)\n",
    "death_cols = death_cols.replace(to_replace='NO', value=0)\n",
    "#sum the rows to get total number of deaths for each character\n",
    "true_avengers[\"Deaths\"] = death_cols.sum(axis=1)\n",
    "\n",
    "    \n",
    "'''\n",
    "Alternative solution given by DQ:\n",
    "\n",
    "columns = ['Death1', 'Death2', 'Death3', 'Death4', 'Death5']\n",
    "true_avengers[columns]\n",
    "def clean_deaths(row):\n",
    "    num_deaths = 0\n",
    "    columns = ['Death1', 'Death2', 'Death3', 'Death4', 'Death5']\n",
    "    \n",
    "    for c in columns:\n",
    "        death = row[c]\n",
    "        if pd.isnull(death) or death == 'NO':\n",
    "            continue\n",
    "        elif death == 'YES':\n",
    "            num_deaths += 1\n",
    "    return num_deaths\n",
    "\n",
    "true_avengers['Deaths'] = true_avengers.apply(lambda row: clean_deaths(row), axis=1)\n",
    "'''\n",
    " \n"
   ]
  },
  {
   "cell_type": "markdown",
   "metadata": {
    "collapsed": false
   },
   "source": [
    "## 6: Years since joining\n",
    "For the final task, we want to know if the Years since joining field accurately reflects the Year column. If an Avenger was introduced in Year 1960, is the Years since joining value for that Avenger 55?\n",
    "\n",
    "Instructions\n",
    "\n",
    "Calculate the number of rows where Years since joining is accurate. This challenge was created in 2015, so use that as the reference year. We want to know for how many rows Years since joining was correctly calculated as Year value subtracted from 2015."
   ]
  },
  {
   "cell_type": "code",
   "execution_count": 73,
   "metadata": {
    "collapsed": false
   },
   "outputs": [
    {
     "data": {
      "text/plain": [
       "159"
      ]
     },
     "execution_count": 73,
     "metadata": {},
     "output_type": "execute_result"
    }
   ],
   "source": [
    "def yearsjoined(year): \n",
    "    return 2015 - year\n",
    "\n",
    "years_since_joined = true_avengers['Year'].apply(lambda year: yearsjoined(year))\n",
    "\n",
    "years_bool = years_since_joined == true_avengers['Years since joining']\n",
    "\n",
    "sum(years_bool==True)\n"
   ]
  },
  {
   "cell_type": "code",
   "execution_count": null,
   "metadata": {
    "collapsed": true
   },
   "outputs": [],
   "source": []
  }
 ],
 "metadata": {
  "kernelspec": {
   "display_name": "Python 3",
   "language": "python",
   "name": "python3"
  },
  "language_info": {
   "codemirror_mode": {
    "name": "ipython",
    "version": 3
   },
   "file_extension": ".py",
   "mimetype": "text/x-python",
   "name": "python",
   "nbconvert_exporter": "python",
   "pygments_lexer": "ipython3",
   "version": "3.5.1"
  }
 },
 "nbformat": 4,
 "nbformat_minor": 0
}
