{
 "cells": [
  {
   "cell_type": "markdown",
   "metadata": {},
   "source": [
    "## Overview\n",
    "Dataset courtesy FiveThirtyEight (https://github.com/fivethirtyeight/data) via Dataquest (dataquest.io)\n",
    "\n",
    "Question to answer: \n",
    "Does the rest of America realize that “The Empire Strikes Back” is clearly the best of the bunch?"
   ]
  },
  {
   "cell_type": "code",
   "execution_count": 123,
   "metadata": {
    "collapsed": false
   },
   "outputs": [],
   "source": [
    "import pandas as pd\n",
    "\n",
    "star_wars = pd.read_csv(\"StarWars.csv\", encoding=\"ISO-8859-1\")"
   ]
  },
  {
   "cell_type": "code",
   "execution_count": 90,
   "metadata": {
    "collapsed": false
   },
   "outputs": [
    {
     "data": {
      "text/html": [
       "<div>\n",
       "<table border=\"1\" class=\"dataframe\">\n",
       "  <thead>\n",
       "    <tr style=\"text-align: right;\">\n",
       "      <th></th>\n",
       "      <th>RespondentID</th>\n",
       "      <th>Have you seen any of the 6 films in the Star Wars franchise?</th>\n",
       "      <th>Do you consider yourself to be a fan of the Star Wars film franchise?</th>\n",
       "      <th>Which of the following Star Wars films have you seen? Please select all that apply.</th>\n",
       "      <th>Unnamed: 4</th>\n",
       "      <th>Unnamed: 5</th>\n",
       "      <th>Unnamed: 6</th>\n",
       "      <th>Unnamed: 7</th>\n",
       "      <th>Unnamed: 8</th>\n",
       "      <th>Please rank the Star Wars films in order of preference with 1 being your favorite film in the franchise and 6 being your least favorite film.</th>\n",
       "      <th>...</th>\n",
       "      <th>Unnamed: 28</th>\n",
       "      <th>Which character shot first?</th>\n",
       "      <th>Are you familiar with the Expanded Universe?</th>\n",
       "      <th>Do you consider yourself to be a fan of the Expanded Universe?æ</th>\n",
       "      <th>Do you consider yourself to be a fan of the Star Trek franchise?</th>\n",
       "      <th>Gender</th>\n",
       "      <th>Age</th>\n",
       "      <th>Household Income</th>\n",
       "      <th>Education</th>\n",
       "      <th>Location (Census Region)</th>\n",
       "    </tr>\n",
       "  </thead>\n",
       "  <tbody>\n",
       "    <tr>\n",
       "      <th>0</th>\n",
       "      <td>NaN</td>\n",
       "      <td>Response</td>\n",
       "      <td>Response</td>\n",
       "      <td>Star Wars: Episode I  The Phantom Menace</td>\n",
       "      <td>Star Wars: Episode II  Attack of the Clones</td>\n",
       "      <td>Star Wars: Episode III  Revenge of the Sith</td>\n",
       "      <td>Star Wars: Episode IV  A New Hope</td>\n",
       "      <td>Star Wars: Episode V The Empire Strikes Back</td>\n",
       "      <td>Star Wars: Episode VI Return of the Jedi</td>\n",
       "      <td>Star Wars: Episode I  The Phantom Menace</td>\n",
       "      <td>...</td>\n",
       "      <td>Yoda</td>\n",
       "      <td>Response</td>\n",
       "      <td>Response</td>\n",
       "      <td>Response</td>\n",
       "      <td>Response</td>\n",
       "      <td>Response</td>\n",
       "      <td>Response</td>\n",
       "      <td>Response</td>\n",
       "      <td>Response</td>\n",
       "      <td>Response</td>\n",
       "    </tr>\n",
       "    <tr>\n",
       "      <th>1</th>\n",
       "      <td>3292879998</td>\n",
       "      <td>Yes</td>\n",
       "      <td>Yes</td>\n",
       "      <td>Star Wars: Episode I  The Phantom Menace</td>\n",
       "      <td>Star Wars: Episode II  Attack of the Clones</td>\n",
       "      <td>Star Wars: Episode III  Revenge of the Sith</td>\n",
       "      <td>Star Wars: Episode IV  A New Hope</td>\n",
       "      <td>Star Wars: Episode V The Empire Strikes Back</td>\n",
       "      <td>Star Wars: Episode VI Return of the Jedi</td>\n",
       "      <td>3</td>\n",
       "      <td>...</td>\n",
       "      <td>Very favorably</td>\n",
       "      <td>I don't understand this question</td>\n",
       "      <td>Yes</td>\n",
       "      <td>No</td>\n",
       "      <td>No</td>\n",
       "      <td>Male</td>\n",
       "      <td>18-29</td>\n",
       "      <td>NaN</td>\n",
       "      <td>High school degree</td>\n",
       "      <td>South Atlantic</td>\n",
       "    </tr>\n",
       "    <tr>\n",
       "      <th>2</th>\n",
       "      <td>3292879538</td>\n",
       "      <td>No</td>\n",
       "      <td>NaN</td>\n",
       "      <td>NaN</td>\n",
       "      <td>NaN</td>\n",
       "      <td>NaN</td>\n",
       "      <td>NaN</td>\n",
       "      <td>NaN</td>\n",
       "      <td>NaN</td>\n",
       "      <td>NaN</td>\n",
       "      <td>...</td>\n",
       "      <td>NaN</td>\n",
       "      <td>NaN</td>\n",
       "      <td>NaN</td>\n",
       "      <td>NaN</td>\n",
       "      <td>Yes</td>\n",
       "      <td>Male</td>\n",
       "      <td>18-29</td>\n",
       "      <td>$0 - $24,999</td>\n",
       "      <td>Bachelor degree</td>\n",
       "      <td>West South Central</td>\n",
       "    </tr>\n",
       "    <tr>\n",
       "      <th>3</th>\n",
       "      <td>3292765271</td>\n",
       "      <td>Yes</td>\n",
       "      <td>No</td>\n",
       "      <td>Star Wars: Episode I  The Phantom Menace</td>\n",
       "      <td>Star Wars: Episode II  Attack of the Clones</td>\n",
       "      <td>Star Wars: Episode III  Revenge of the Sith</td>\n",
       "      <td>NaN</td>\n",
       "      <td>NaN</td>\n",
       "      <td>NaN</td>\n",
       "      <td>1</td>\n",
       "      <td>...</td>\n",
       "      <td>Unfamiliar (N/A)</td>\n",
       "      <td>I don't understand this question</td>\n",
       "      <td>No</td>\n",
       "      <td>NaN</td>\n",
       "      <td>No</td>\n",
       "      <td>Male</td>\n",
       "      <td>18-29</td>\n",
       "      <td>$0 - $24,999</td>\n",
       "      <td>High school degree</td>\n",
       "      <td>West North Central</td>\n",
       "    </tr>\n",
       "    <tr>\n",
       "      <th>4</th>\n",
       "      <td>3292763116</td>\n",
       "      <td>Yes</td>\n",
       "      <td>Yes</td>\n",
       "      <td>Star Wars: Episode I  The Phantom Menace</td>\n",
       "      <td>Star Wars: Episode II  Attack of the Clones</td>\n",
       "      <td>Star Wars: Episode III  Revenge of the Sith</td>\n",
       "      <td>Star Wars: Episode IV  A New Hope</td>\n",
       "      <td>Star Wars: Episode V The Empire Strikes Back</td>\n",
       "      <td>Star Wars: Episode VI Return of the Jedi</td>\n",
       "      <td>5</td>\n",
       "      <td>...</td>\n",
       "      <td>Very favorably</td>\n",
       "      <td>I don't understand this question</td>\n",
       "      <td>No</td>\n",
       "      <td>NaN</td>\n",
       "      <td>Yes</td>\n",
       "      <td>Male</td>\n",
       "      <td>18-29</td>\n",
       "      <td>$100,000 - $149,999</td>\n",
       "      <td>Some college or Associate degree</td>\n",
       "      <td>West North Central</td>\n",
       "    </tr>\n",
       "  </tbody>\n",
       "</table>\n",
       "<p>5 rows × 38 columns</p>\n",
       "</div>"
      ],
      "text/plain": [
       "   RespondentID Have you seen any of the 6 films in the Star Wars franchise?  \\\n",
       "0           NaN                                           Response             \n",
       "1    3292879998                                                Yes             \n",
       "2    3292879538                                                 No             \n",
       "3    3292765271                                                Yes             \n",
       "4    3292763116                                                Yes             \n",
       "\n",
       "  Do you consider yourself to be a fan of the Star Wars film franchise?  \\\n",
       "0                                           Response                      \n",
       "1                                                Yes                      \n",
       "2                                                NaN                      \n",
       "3                                                 No                      \n",
       "4                                                Yes                      \n",
       "\n",
       "  Which of the following Star Wars films have you seen? Please select all that apply.  \\\n",
       "0           Star Wars: Episode I  The Phantom Menace                                    \n",
       "1           Star Wars: Episode I  The Phantom Menace                                    \n",
       "2                                                NaN                                    \n",
       "3           Star Wars: Episode I  The Phantom Menace                                    \n",
       "4           Star Wars: Episode I  The Phantom Menace                                    \n",
       "\n",
       "                                    Unnamed: 4  \\\n",
       "0  Star Wars: Episode II  Attack of the Clones   \n",
       "1  Star Wars: Episode II  Attack of the Clones   \n",
       "2                                          NaN   \n",
       "3  Star Wars: Episode II  Attack of the Clones   \n",
       "4  Star Wars: Episode II  Attack of the Clones   \n",
       "\n",
       "                                    Unnamed: 5  \\\n",
       "0  Star Wars: Episode III  Revenge of the Sith   \n",
       "1  Star Wars: Episode III  Revenge of the Sith   \n",
       "2                                          NaN   \n",
       "3  Star Wars: Episode III  Revenge of the Sith   \n",
       "4  Star Wars: Episode III  Revenge of the Sith   \n",
       "\n",
       "                          Unnamed: 6  \\\n",
       "0  Star Wars: Episode IV  A New Hope   \n",
       "1  Star Wars: Episode IV  A New Hope   \n",
       "2                                NaN   \n",
       "3                                NaN   \n",
       "4  Star Wars: Episode IV  A New Hope   \n",
       "\n",
       "                                     Unnamed: 7  \\\n",
       "0  Star Wars: Episode V The Empire Strikes Back   \n",
       "1  Star Wars: Episode V The Empire Strikes Back   \n",
       "2                                           NaN   \n",
       "3                                           NaN   \n",
       "4  Star Wars: Episode V The Empire Strikes Back   \n",
       "\n",
       "                                 Unnamed: 8  \\\n",
       "0  Star Wars: Episode VI Return of the Jedi   \n",
       "1  Star Wars: Episode VI Return of the Jedi   \n",
       "2                                       NaN   \n",
       "3                                       NaN   \n",
       "4  Star Wars: Episode VI Return of the Jedi   \n",
       "\n",
       "  Please rank the Star Wars films in order of preference with 1 being your favorite film in the franchise and 6 being your least favorite film.  \\\n",
       "0           Star Wars: Episode I  The Phantom Menace                                                                                              \n",
       "1                                                  3                                                                                              \n",
       "2                                                NaN                                                                                              \n",
       "3                                                  1                                                                                              \n",
       "4                                                  5                                                                                              \n",
       "\n",
       "            ...                  Unnamed: 28  \\\n",
       "0           ...                         Yoda   \n",
       "1           ...               Very favorably   \n",
       "2           ...                          NaN   \n",
       "3           ...             Unfamiliar (N/A)   \n",
       "4           ...               Very favorably   \n",
       "\n",
       "        Which character shot first?  \\\n",
       "0                          Response   \n",
       "1  I don't understand this question   \n",
       "2                               NaN   \n",
       "3  I don't understand this question   \n",
       "4  I don't understand this question   \n",
       "\n",
       "  Are you familiar with the Expanded Universe?  \\\n",
       "0                                     Response   \n",
       "1                                          Yes   \n",
       "2                                          NaN   \n",
       "3                                           No   \n",
       "4                                           No   \n",
       "\n",
       "  Do you consider yourself to be a fan of the Expanded Universe?æ  \\\n",
       "0                                           Response                 \n",
       "1                                                 No                 \n",
       "2                                                NaN                 \n",
       "3                                                NaN                 \n",
       "4                                                NaN                 \n",
       "\n",
       "  Do you consider yourself to be a fan of the Star Trek franchise?    Gender  \\\n",
       "0                                           Response                Response   \n",
       "1                                                 No                    Male   \n",
       "2                                                Yes                    Male   \n",
       "3                                                 No                    Male   \n",
       "4                                                Yes                    Male   \n",
       "\n",
       "        Age     Household Income                         Education  \\\n",
       "0  Response             Response                          Response   \n",
       "1     18-29                  NaN                High school degree   \n",
       "2     18-29         $0 - $24,999                   Bachelor degree   \n",
       "3     18-29         $0 - $24,999                High school degree   \n",
       "4     18-29  $100,000 - $149,999  Some college or Associate degree   \n",
       "\n",
       "  Location (Census Region)  \n",
       "0                 Response  \n",
       "1           South Atlantic  \n",
       "2       West South Central  \n",
       "3       West North Central  \n",
       "4       West North Central  \n",
       "\n",
       "[5 rows x 38 columns]"
      ]
     },
     "execution_count": 90,
     "metadata": {},
     "output_type": "execute_result"
    }
   ],
   "source": [
    "star_wars.head(5)"
   ]
  },
  {
   "cell_type": "markdown",
   "metadata": {},
   "source": [
    "The data has several columns, including:\n",
    "\n",
    "RespondentID -- An anonymized ID of the person taking the survey.\n",
    "\n",
    "Gender -- Gender of the respondent.\n",
    "\n",
    "Age -- Age of the respondent.\n",
    "\n",
    "Household Income -- Income of the respondent.\n",
    "\n",
    "Education -- Education level of the respondent.\n",
    "\n",
    "Location (Census Region) -- Location of the respondent.\n",
    "\n",
    "Have you seen any of the 6 films in the Star Wars franchise? -- Yes or No response.\n",
    "\n",
    "Do you consider yourself to be a fan of the Star Wars film franchise? -- Yes or No response.\n",
    "\n",
    "There are several other columns, which involve questions about the Star Wars movies. Some questions involved checkboxes, where someone was asked which of several options they liked, and to check all the ones they did like. This type of data is hard to represent in columnar format, and you'll be cleaning up the columns extensively in this project.\n",
    "\n",
    "This dataset needs a lot of cleaning, which makes it a good place to practice the skills you've been learning so far. The first step you'll take is to remove invalid rows. RespondentID is supposed to be a unique ID for each respondent, but it's blank in some rows. You'll need to remove any rows with an invalid RespondentID."
   ]
  },
  {
   "cell_type": "markdown",
   "metadata": {},
   "source": [
    "## Instructions\n",
    "Read the dataset into a Dataframe\n",
    "Explore the data by using star_wars.head(10). Look for any strange values in the columns and rows.\n",
    "Look at the column names with star_wars.columns.\n",
    "Remove any rows where RespondentID is NaN. You can use the pandas.notnull() function for this. Only select rows where the RespondentID column is not null.\n",
    "At the end star_wars should only consist of rows where RespondentID is not NaN.\n",
    "\n",
    "Use star_wars = star_wars[pd.notnull(star_wars[\"RespondentID\"])] to remove rows where RespondentID is NaN."
   ]
  },
  {
   "cell_type": "code",
   "execution_count": 91,
   "metadata": {
    "collapsed": false
   },
   "outputs": [],
   "source": [
    "star_wars.head(10)\n",
    "star_wars.columns\n",
    "star_wars = star_wars[pd.notnull(star_wars[\"RespondentID\"])] "
   ]
  },
  {
   "cell_type": "markdown",
   "metadata": {},
   "source": [
    "## Cleaning up Yes/No columns\n",
    "\n",
    "Take a look at the next two columns, which are:\n",
    "\n",
    "* `Have you seen any of the 6 films in the Star Wars franchise?`\n",
    "* `Which of the following Star Wars films have you seen? Please select all that apply.`\n",
    "You'll see that they are both Yes/No questions. There's another possible value they can take on, NaN, when a respondent chose not to answer that question. You can use the value_counts() method on a Series to see all the unique values in a column, and the counts of each value.\n",
    "\n",
    "Both columns are currently string types -- Yes or No. In order to make it a bit easier to analyze down the line, convert each column to a Boolean, with only True, False, or NaN. Booleans are easier to work with because you can select the rows that are True or False without having to do a string comparisons.\n",
    "\n",
    "You can use the map() method on Series to do this conversion.\n",
    "\n",
    "If you have a Series that looks like this:\n",
    "\n",
    "series = [\"Yes\", \"No\", NaN, \"Yes\"]\n",
    "You can use a dictionary to define a mapping from each value in series to a new value:\n",
    "\n",
    "yes_no = {\n",
    "    \"Yes\": True,\n",
    "    \"No\": False\n",
    "}\n",
    "Then, you can call the map function to perform the mapping:\n",
    "\n",
    "series = series.map(yes_no)\n",
    "series will end up looking like this:\n",
    "\n",
    "[True, False, NaN, True]\n",
    "\n"
   ]
  },
  {
   "cell_type": "markdown",
   "metadata": {},
   "source": [
    "## Instructions\n",
    "Convert the Have you seen any of the 6 films in the Star Wars franchise? column to the Boolean type.\n",
    "Convert the Which of the following Star Wars films have you seen? Please select all that apply. column to the Boolean type.\n",
    "At the end, both columns should have only True, False, or NaN values in them."
   ]
  },
  {
   "cell_type": "code",
   "execution_count": 92,
   "metadata": {
    "collapsed": false
   },
   "outputs": [],
   "source": [
    "yes_no = {'Yes': True, 'No': False}\n",
    "\n",
    "for col in ['Have you seen any of the 6 films in the Star Wars franchise?', \\\n",
    "            'Do you consider yourself to be a fan of the Star Wars film franchise?']:\n",
    "     star_wars[col] = star_wars[col].map(yes_no)\n"
   ]
  },
  {
   "cell_type": "markdown",
   "metadata": {},
   "source": [
    "## Cleaning up checkbox columns\n",
    " \n",
    "The next 6 columns represent a checkbox question. The respondent was asked Which of the following Star Wars films have you seen? Please select all that apply., and then was able to check off a series of boxes indicating which movies they saw.\n",
    "\n",
    "The columns that represent this data are:\n",
    "\n",
    "Which of the following Star Wars films have you seen? Please select all that apply. -- whether or not the respondent saw Star Wars: Episode I The Phantom Menace.\n",
    "Unnamed: 4 -- whether or not the respondent saw Star Wars: Episode II Attack of the Clones.\n",
    "Unnamed: 5 -- whether or not the respondent saw Star Wars: Episode III Revenge of the Sith.\n",
    "Unnamed: 6 -- whether or not the respondent saw Star Wars: Episode IV A New Hope.\n",
    "Unnamed: 7 -- whether or not the respondent saw Star Wars: Episode V The Empire Strikes Back.\n",
    "Unnamed: 8 -- whether or not the respondent saw Star Wars: Episode VI Return of the Jedi.\n",
    "For each of these columns, if the value in a cell is the name of the movie, that means the respondent saw it. If the value is NaN, the respondent either didn't answer, or didn't see the movie, but we'll assume that they didn't see the movie.\n",
    "\n",
    "You need to convert each of these columns to a Boolean, then rename the column to have a more clear name. You can do the Boolean conversion like you did earlier, except you'll need to include the the movie title and NaN in the mapping dictionary.\n",
    "\n",
    "For example, if the column Series looks like this:\n",
    "\n",
    "[\"Star Wars: Episode I  The Phantom Menace\", NaN, \"Star Wars: Episode I  The Phantom Menace\"]\n",
    "You can use a mapping dictionary that looks like this:\n",
    "\n",
    "{\n",
    "    \"Star Wars: Episode I  The Phantom Menace\": True,\n",
    "    NaN: False\n",
    "}\n",
    "After you call the map() method on the Series, the column should only contain True or False values.\n",
    "\n",
    "After the values are converted with the map method, you can rename the columns to better reflect what the values represent. You can use the rename() method on Dataframes for this.\n",
    "\n",
    "The rename method works a lot like map. You pass it a dictionary that maps current column names to new ones:\n",
    "\n",
    "star_wars = star_wars.rename(columns={\n",
    "    \"Which of the following Star Wars films have you seen? Please select all that apply.\": \"seen_1\"\n",
    "})\n",
    "The rename method will only rename columns specified in the dictionary, and will not change the names of other columns. The above code will rename the Which of the following Star Wars films have you seen? Please select all that apply. column to seen_1.\n",
    "\n",
    "\n",
    "Instructions\n",
    "\n",
    "For each column above, convert the column to only contain True and False values.\n",
    "One easy way to select the column names is to do star_wars.columns[3:9] instead of typing them out.\n",
    "Be very careful with spacing when constructing your mapping dictionary! In the cells, Star Wars: Episode I The Phantom Menace has two spaces between the end of Episode I and the start of The Phantom, but this is not the case in Star Wars: Episode VI Return of the Jedi. Make sure to look at the values in the cells to find the appropriate spacing.\n",
    "Rename each of the columns above to have more clear names. We recommend using seen_1 to indicate if the respondent saw Star Wars: Episode I The Phantom Menace, seen_2 for Star Wars: Episode II Attack of the Clones, and so on.\n",
    "At the end, you should have clearly named columns indicating with a True or False if the respondent saw each Star Wars movie from 1-6."
   ]
  },
  {
   "cell_type": "code",
   "execution_count": 93,
   "metadata": {
    "collapsed": false
   },
   "outputs": [],
   "source": [
    "import numpy as np\n",
    "move_titles = {\"Star Wars: Episode I  The Phantom Menace\": True,\n",
    "    np.nan: False,\n",
    "    \"Star Wars: Episode II  Attack of the Clones\": True,\n",
    "    \"Star Wars: Episode III  Revenge of the Sith\": True,\n",
    "    \"Star Wars: Episode IV  A New Hope\": True,\n",
    "    \"Star Wars: Episode V The Empire Strikes Back\": True,\n",
    "    \"Star Wars: Episode VI Return of the Jedi\": True\n",
    "}\n",
    "\n",
    "for col in star_wars.columns[3:9]:\n",
    "    star_wars[col] = star_wars[col].map(move_titles)\n"
   ]
  },
  {
   "cell_type": "code",
   "execution_count": 97,
   "metadata": {
    "collapsed": false
   },
   "outputs": [],
   "source": [
    "star_wars = star_wars.rename(columns={ star_wars.columns[3]: \"seen_1\",\n",
    "                                     star_wars.columns[4]: \"seen_2\",\n",
    "                                     star_wars.columns[5]: \"seen_3\",\n",
    "                                     star_wars.columns[6]: \"seen_4\",\n",
    "                                     star_wars.columns[7]: \"seen_5\",\n",
    "                                     star_wars.columns[8]: \"seen_6\",\n",
    "                                      })"
   ]
  },
  {
   "cell_type": "markdown",
   "metadata": {},
   "source": [
    "## Cleaning up ranking columns\n",
    "\n",
    "The next 6 columns ask the respondent to rank the Star Wars movies in order of least to most favorite. 1 means the film was their most favorite, and 6 means it was their least favorite. Each of the following columns can contain the values 1, 2, 3, 4, 5, 6, or NaN:\n",
    "\n",
    "Please rank the Star Wars films in order of preference with 1 being your favorite film in the franchise and 6 being your least favorite film. -- How much the respondent liked Star Wars: Episode I The Phantom Menace.\n",
    "Unnamed: 10 -- How much the respondent liked Star Wars: Episode II Attack of the Clones.\n",
    "Unnamed: 11 -- How much the respondent liked Star Wars: Episode III Revenge of the Sith.\n",
    "Unnamed: 12 -- How much the respondent liked Star Wars: Episode IV A New Hope.\n",
    "Unnamed: 13 -- How much the respondent liked Star Wars: Episode V The Empire Strikes Back.\n",
    "Unnamed: 14 -- How much the respondent liked Star Wars: Episode VI Return of the Jedi.\n",
    "You don't need to do a ton of cleanup for these columns. You'll need to convert each column to a numeric type, then rename the columns so you can tell what they're for more easily.\n",
    "\n",
    "You can do the numeric conversion with the astype() method on Dataframes. In this case, you can use code that looks like this:\n",
    "\n",
    "star_wars[star_wars.columns[9:15]] = star_wars[star_wars.columns[9:15]].astype(float)\n",
    "The code above will convert each column from column 9 up to but not including column 15 to a float type.\n",
    "\n",
    "\n",
    "Instructions\n",
    "\n",
    "Convert each column above to a float type.\n",
    "Instead of typing in each column name, you can select them all with star_wars.columns[9:15].\n",
    "Rename each of the above columns to a more descriptive name. We suggest ranking_1, ranking_2, and so on.\n",
    "You can use the rename method from the last screen.\n",
    "\n",
    "\n",
    "  \n",
    "\n",
    " \n"
   ]
  },
  {
   "cell_type": "code",
   "execution_count": 99,
   "metadata": {
    "collapsed": true
   },
   "outputs": [],
   "source": [
    "star_wars[star_wars.columns[9:15]] = star_wars[star_wars.columns[9:15]].astype(float)"
   ]
  },
  {
   "cell_type": "code",
   "execution_count": 100,
   "metadata": {
    "collapsed": true
   },
   "outputs": [],
   "source": [
    "star_wars = star_wars.rename(columns={ star_wars.columns[9]: \"ranking_1\",\n",
    "                                     star_wars.columns[10]: \"ranking_2\",\n",
    "                                     star_wars.columns[11]: \"ranking_3\",\n",
    "                                     star_wars.columns[12]: \"ranking_4\",\n",
    "                                     star_wars.columns[13]: \"ranking_5\",\n",
    "                                     star_wars.columns[14]: \"ranking_6\",\n",
    "                                      })"
   ]
  },
  {
   "cell_type": "markdown",
   "metadata": {},
   "source": [
    "## Finding the highest ranked movie\n",
    " \n",
    "Now that you've cleaned up the ranking columns, you can easily find the highest ranked movie. You can do this by taking the mean of each of the ranking columns. The mean() method on Dataframes will enable you to do this.\n",
    "\n",
    "\n",
    "Instructions\n",
    "\n",
    "Use the mean method to compute the mean of each of the ranking columns from the last screen.\n",
    "Make a bar chart of each ranking. You can use a matplotlib bar chart for this.\n",
    "Make sure to run %matplotlib inline beforehand to show your plots in the notebook.\n",
    "Create a markdown cell, and write a summary of what you've done up until now, and why you think the movies are ranked like they are.\n",
    "Remember that a lower ranking is better!\n"
   ]
  },
  {
   "cell_type": "code",
   "execution_count": 116,
   "metadata": {
    "collapsed": false
   },
   "outputs": [
    {
     "data": {
      "text/plain": [
       "<Container object of 6 artists>"
      ]
     },
     "execution_count": 116,
     "metadata": {},
     "output_type": "execute_result"
    },
    {
     "data": {
      "image/png": "[encoded data removed]",
      "text/plain": [
       "<matplotlib.figure.Figure at 0x11251fdd8>"
      ]
     },
     "metadata": {},
     "output_type": "display_data"
    }
   ],
   "source": [
    "ranking_means = star_wars[star_wars.columns[9:15]].mean()\n",
    "import matplotlib.pyplot as plt\n",
    "%matplotlib inline \n",
    "\n",
    "plt.bar(range(6), star_wars[star_wars.columns[9:15]].mean())"
   ]
  },
  {
   "cell_type": "markdown",
   "metadata": {},
   "source": [
    "Summary of what I've done so far:\n",
    "In order to clean the Star Wars survey data, I had first get rid of the rows without response ID's, by filtering the Response ID column for not null values (.notnull()). Then I converted string responses to the first 8 questions into booleans using a mapping dictionary. I also converted the names of the ambiguous columns. Next, I converted the rankings column types from strings to floats, so I could later compute the movie ranking means. Along with converting the column values, I also renamed the ranking columns. Lastly, I made a bar chart that shows the ranking averages of the individual means."
   ]
  },
  {
   "cell_type": "code",
   "execution_count": 117,
   "metadata": {
    "collapsed": false
   },
   "outputs": [
    {
     "data": {
      "text/plain": [
       "<Container object of 6 artists>"
      ]
     },
     "execution_count": 117,
     "metadata": {},
     "output_type": "execute_result"
    },
    {
     "data": {
      "image/png": "[encoded data removed]",
      "text/plain": [
       "<matplotlib.figure.Figure at 0x1125fae48>"
      ]
     },
     "metadata": {},
     "output_type": "display_data"
    }
   ],
   "source": [
    "seen_sums = star_wars[star_wars.columns[3:9]].sum()\n",
    "\n",
    "plt.bar(range(6), seen_sums )"
   ]
  },
  {
   "cell_type": "markdown",
   "metadata": {},
   "source": [
    "It seems like Episode IV is ranked highest because the most people have seen it. "
   ]
  },
  {
   "cell_type": "markdown",
   "metadata": {},
   "source": [
    "Exploring the data by binary segments\n",
    "\n",
    "We've seen what the whole survey population thinks are the highest ranked movies, but we can break this down by segments. There are several columns that segment our data into two groups, including:\n",
    "\n",
    "Do you consider yourself to be a fan of the Star Wars film franchise? -- True or False.\n",
    "Do you consider yourself to be a fan of the Star Trek franchise? -- Yes or No.\n",
    "Gender -- Male or Female.\n",
    "You can split a Dataframe into two groups based on a binary column by taking two subsets. Here, we'll split on the Gender column:\n",
    "\n",
    "males = star_wars[star_wars[\"Gender\"] == \"Male\"]\n",
    "females = star_wars[star_wars[\"Gender\"] == \"Female\"]\n",
    "We can compute statistics like the most seen movie and the highest ranked movie separately for each group.\n",
    "\n",
    "\n",
    "Instructions\n",
    "\n",
    "Split the data into 2 groups based on one of the above columns.\n",
    "Redo the 2 previous analyses (find the most seen movie and finding the highest ranked movie) separately for each group, and then compare results.\n",
    "Write about any interesting patterns you see in a Markdown cell.\n",
    "\n",
    "  \n",
    "\n",
    " \n"
   ]
  },
  {
   "cell_type": "code",
   "execution_count": 118,
   "metadata": {
    "collapsed": true
   },
   "outputs": [],
   "source": [
    "trek_fans = star_wars[star_wars['Do you consider yourself to be a fan of the Star Trek franchise?'] == 'Yes']\n",
    "NOT_trek_fans = star_wars[star_wars['Do you consider yourself to be a fan of the Star Trek franchise?'] == 'No']"
   ]
  },
  {
   "cell_type": "code",
   "execution_count": 119,
   "metadata": {
    "collapsed": false
   },
   "outputs": [
    {
     "name": "stdout",
     "output_type": "stream",
     "text": [
      "seen_1    364\n",
      "seen_2    336\n",
      "seen_3    322\n",
      "seen_4    342\n",
      "seen_5    397\n",
      "seen_6    396\n",
      "dtype: int64 seen_1    301\n",
      "seen_2    228\n",
      "seen_3    221\n",
      "seen_4    258\n",
      "seen_5    353\n",
      "seen_6    334\n",
      "dtype: int64\n"
     ]
    }
   ],
   "source": [
    "seen_treks = trek_fans[trek_fans.columns[3:9]].sum()\n",
    "seen_NOTtreks = NOT_trek_fans[NOT_trek_fans.columns[3:9]].sum()\n",
    "print(seen_treks, seen_NOTtreks)"
   ]
  },
  {
   "cell_type": "code",
   "execution_count": 120,
   "metadata": {
    "collapsed": false
   },
   "outputs": [
    {
     "name": "stdout",
     "output_type": "stream",
     "text": [
      "ranking_1    3.968675\n",
      "ranking_2    4.255422\n",
      "ranking_3    4.403382\n",
      "ranking_4    3.110843\n",
      "ranking_5    2.407229\n",
      "ranking_6    2.850602\n",
      "dtype: float64 ranking_1    3.487864\n",
      "ranking_2    3.915254\n",
      "ranking_3    4.278450\n",
      "ranking_4    3.433414\n",
      "ranking_5    2.634383\n",
      "ranking_6    3.244552\n",
      "dtype: float64\n"
     ]
    }
   ],
   "source": [
    "rank_means_treks = trek_fans[trek_fans.columns[9:15]].mean()\n",
    "rank_means_NOTtreks = NOT_trek_fans[NOT_trek_fans.columns[9:15]].mean()\n",
    "print(rank_means_treks, rank_means_NOTtreks)"
   ]
  },
  {
   "cell_type": "markdown",
   "metadata": {},
   "source": [
    "It looks like more Star Trek fans have seen the Star Wars movies than non Star Trek fans, but when it comes to ranking them, the rankings are comparable."
   ]
  },
  {
   "cell_type": "code",
   "execution_count": null,
   "metadata": {
    "collapsed": true
   },
   "outputs": [],
   "source": []
  }
 ],
 "metadata": {
  "kernelspec": {
   "display_name": "Python 3",
   "language": "python",
   "name": "python3"
  },
  "language_info": {
   "codemirror_mode": {
    "name": "ipython",
    "version": 3
   },
   "file_extension": ".py",
   "mimetype": "text/x-python",
   "name": "python",
   "nbconvert_exporter": "python",
   "pygments_lexer": "ipython3",
   "version": "3.5.1"
  }
 },
 "nbformat": 4,
 "nbformat_minor": 0
}
